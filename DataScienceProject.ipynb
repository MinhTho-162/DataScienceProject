{
 "cells": [
  {
   "cell_type": "code",
   "execution_count": 51,
   "metadata": {},
   "outputs": [],
   "source": [
    "import numpy\n",
    "from bs4 import BeautifulSoup\n",
    "from protego import Protego\n",
    "import requests\n",
    "import lxml\n",
    "\n",
    "import pandas as pd\n"
   ]
  },
  {
   "cell_type": "code",
   "execution_count": 52,
   "metadata": {},
   "outputs": [
    {
     "data": {
      "text/plain": [
       "True"
      ]
     },
     "execution_count": 52,
     "metadata": {},
     "output_type": "execute_result"
    }
   ],
   "source": [
    "base_url = 'https://rever.vn'\n",
    "\n",
    "\n",
    "r = requests.get(base_url + \"/robots.txt\")\n",
    "rp = Protego.parse(r.text)\n",
    "rp.can_fetch(base_url, \"*\")"
   ]
  },
  {
   "cell_type": "code",
   "execution_count": 53,
   "metadata": {},
   "outputs": [],
   "source": [
    "first_page = base_url + '/s/ho-chi-minh'\n",
    "page = requests.get(first_page)"
   ]
  },
  {
   "cell_type": "code",
   "execution_count": 80,
   "metadata": {},
   "outputs": [
    {
     "name": "stdout",
     "output_type": "stream",
     "text": [
      "https://rever.vn/mua/can-ho-dao-kim-cuong-tang-trung-don-view-thanh-pho-sam-uat\n"
     ]
    }
   ],
   "source": [
    "house_urls = set()\n",
    "house_urls.add(first_page)\n",
    "if page.status_code == requests.codes.ok:\n",
    "    bs = BeautifulSoup(page.text, 'lxml')\n",
    "    list_pages = bs.findAll('div', class_ = 'group-grid__view')\n",
    "    \n",
    "    data = {\n",
    "        'Ten' : [], 'Dia Chi' : [], 'Ma nha dat' : [], 'Loai hinh' : [], 'Phong ngu' : [], 'Phong tam' : [], 'Dien tich' : [], 'Dien tich su dung' : [], \n",
    "        'Tinh hinh noi that' : [], 'Muc dich su dung' : [], 'Loai chu quyen' : [], 'Du an' : [], 'Ban cong' : [], 'San vuon' : [],'Phong giai tri' : [],\n",
    "        'Cho dau xe hoi' : [], 'Ho boi rieng' : [], 'Quay minibar' : [], 'Tang ham' : [], 'Goc lam viec' : [], 'Nha kho' : [], 'Gym' : [],\n",
    "        'Ban ghe phong khach' : [], 'Ke TV' : [], 'Ban an, ghe' : [], 'Dao bep' : [], 'Den trang tri'  : [], 'Bep uot' : [], 'Bep kho' : [],\n",
    "        'Tu bep tren, duoi' : [], 'San go': [], 'Tu am tuong' : [], 'Tu treo do' : [], 'Tu ke dau giuong' : [], 'Den tran' : [], 'Den ban' : [],\n",
    "        'Giuong' : [], 'Dem, chan goi' : [], 'Tu giay dep' : [], 'Bon tam' : [], 'Ke sach' : [], 'Ban lam viec' : [], 'Ban trang diem' : [],\n",
    "        'TV' : [], 'May hut mui' : [], 'Cam bien chay' : [], 'Tu lanh' : [], 'Bep ga, bep tu' : [], 'May giat' : [], 'May say' : [],\n",
    "        'Gian phoi do thong minh' : [], 'May lanh' : [], 'May nuoc nong' : [], 'Khoa cua the tu' : [], 'Khoa cua mat khau' : [], \n",
    "        'Khoa cua mat khau' : [], 'Thiet bi am thanh' : [], 'Smart home' : [], 'Lo nuong' : [], 'Lo vi song' : [], 'Camera an ninh' : [], \n",
    "        'Internet' : [], 'Truyen hinh cap' : [], 'GIA' : [],\n",
    "    }\n",
    "    \n",
    "    per_page_url = list_pages[0].find('a')['href']\n",
    "    per_page_url = base_url + per_page_url\n",
    "    print(per_page_url)\n"
   ]
  },
  {
   "cell_type": "code",
   "execution_count": null,
   "metadata": {},
   "outputs": [],
   "source": []
  },
  {
   "cell_type": "code",
   "execution_count": 5,
   "metadata": {},
   "outputs": [
    {
     "name": "stdout",
     "output_type": "stream",
     "text": [
      "[]\n"
     ]
    }
   ],
   "source": [
    "def get_info_house(house_url):\n",
    "    '''\n",
    "    get house's info from page\n",
    "        input: house's url\n",
    "        output: house's data\n",
    "    '''\n",
    "    \n",
    "    house_page = requests.get(house_url)\n",
    "    if house_page.status_code == requests.codes.ok:\n",
    "        bs = BeautifulSoup(page.text, 'lxml')\n",
    "        \n",
    "        house_name = bs.findAll('div.content-detail-house')\n",
    "        print(house_name)\n",
    "        \n",
    "        \n",
    "        \n",
    "get_info_house(\"https://rever.vn/mua/can-ho-dao-kim-cuong-tang-trung-don-view-thanh-pho-sam-uat\")"
   ]
  }
 ],
 "metadata": {
  "kernelspec": {
   "display_name": "Python 3",
   "language": "python",
   "name": "python3"
  },
  "language_info": {
   "codemirror_mode": {
    "name": "ipython",
    "version": 3
   },
   "file_extension": ".py",
   "mimetype": "text/x-python",
   "name": "python",
   "nbconvert_exporter": "python",
   "pygments_lexer": "ipython3",
   "version": "3.8.3"
  }
 },
 "nbformat": 4,
 "nbformat_minor": 4
}
